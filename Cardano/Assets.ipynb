{
 "cells": [
  {
   "cell_type": "code",
   "execution_count": 14,
   "metadata": {},
   "outputs": [],
   "source": [
    "#!pip3 install blockfrost-python\n",
    "from blockfrost import BlockFrostApi, ApiError, ApiUrls\n",
    "\n",
    "api = BlockFrostApi(project_id='mainnetckpoKjQ5XH1O3NLIRXCOUDJoE7x5xmpZ')\n",
    "ASSET = '29d222ce763455e3d7a09a665ce554f00ac89d2e99a1a83d267170c64d494e' # Min tokens\n",
    "POCILY_ID = '29d222ce763455e3d7a09a665ce554f00ac89d2e99a1a83d267170c6' # Minswap policy"
   ]
  },
  {
   "cell_type": "code",
   "execution_count": 15,
   "metadata": {},
   "outputs": [
    {
     "name": "stdout",
     "output_type": "stream",
     "text": [
      "[Namespace(asset='00000002df633853f6a47465c9496721d2d5b1291b8398016c0e87ae6e7574636f696e', quantity='1'), Namespace(asset='3a9241cd79895e3a8d65261b40077d4437ce71e9d7c8c6c00e3f658e4669727374636f696e', quantity='1'), Namespace(asset='02f68378e37af4545d027d0a9fa5581ac682897a3fc1f6d8f936ed2b4154414441', quantity='2000000'), Namespace(asset='e8e62d329e73190190c3e323fb5c9fb98ee55f0676332ba949f29d724649525354', quantity='1'), Namespace(asset='ac3f4224723e2ed9d166478662f6e48bae9ddf0fc5ee58f54f6c322943454e54', quantity='10000000')]\n"
     ]
    }
   ],
   "source": [
    "try:\n",
    "    data = api.assets()\n",
    "    print(data[0:5])\n",
    "except ApiError as e:\n",
    "    print(e)"
   ]
  },
  {
   "cell_type": "code",
   "execution_count": 16,
   "metadata": {},
   "outputs": [
    {
     "name": "stdout",
     "output_type": "stream",
     "text": [
      "[Namespace(tx_hash='78e5821367cd4e2fbfce4d32c3ecededd388f13118f06b959015c2aad19b5cd8', action='minted', amount='25000000000000'), Namespace(tx_hash='3347665bf29869224c2a6001f47c7ff20f1760259d6ffc7fe833b1a94b4d34dc', action='minted', amount='25000000000000'), Namespace(tx_hash='c151ff3b566051210cc9b7c115441e6e854b9db91f5dfe94c88c00f5eaed2a85', action='minted', amount='4950000000000000')]\n"
     ]
    }
   ],
   "source": [
    "try:\n",
    "    data = api.asset_history(asset=ASSET)\n",
    "    print(data[0:5])\n",
    "except ApiError as e:\n",
    "    print(e)"
   ]
  },
  {
   "cell_type": "code",
   "execution_count": 17,
   "metadata": {},
   "outputs": [
    {
     "name": "stdout",
     "output_type": "stream",
     "text": [
      "[Namespace(tx_hash='78e5821367cd4e2fbfce4d32c3ecededd388f13118f06b959015c2aad19b5cd8', tx_index=9, block_height=6352717, block_time=1633861069), Namespace(tx_hash='6d9169f9f034e31da9995708fbfaf49c1efb471940a3944f1e2ce17609ca2a62', tx_index=1, block_height=6352721, block_time=1633861115), Namespace(tx_hash='f011d127c97a3cc6de820c50922202dbfd549dcb60f4c3bf60673d93d570f37e', tx_index=2, block_height=6352786, block_time=1633862848), Namespace(tx_hash='a3173c0a452600753a8cb15ac8667bbf81e312d98f050f7862d99645f7f4f820', tx_index=21, block_height=6352876, block_time=1633864695), Namespace(tx_hash='ed3b7ba58dc390626faaddbd7b68b5e5a0d4bd1daed28b1d5d13ff945f87ba48', tx_index=11, block_height=6352880, block_time=1633864755)]\n"
     ]
    }
   ],
   "source": [
    "try:\n",
    "    data = api.asset_transactions(asset=ASSET)\n",
    "    print(data[0:5])\n",
    "except ApiError as e:\n",
    "    print(e)"
   ]
  },
  {
   "cell_type": "code",
   "execution_count": 18,
   "metadata": {},
   "outputs": [
    {
     "name": "stdout",
     "output_type": "stream",
     "text": [
      "[Namespace(address='addr1qx7p6fvetgqtnp3dfjtdvgtudqk4a6dyygcwurqdhnan87we9zy9z7an5k57m39lcdkhzlfy826fs9xklmhns0thqsrsg6takj', quantity='20000000000'), Namespace(address='addr1qyp2ft9c808ftms4prugw79gn3vaxmmhcd4wjc6jrax7m6n3a0detvr2wj2zdhdc5fsr6l6pd8ecw767r2eq0mhu8fjqvkytcw', quantity='40000000000'), Namespace(address='addr1qy2mgedza8svlt8w9sqsnghg3ve6qzzn75rd0jcemsyzx8mprlk9mdjw90k07r60zspl087g2fu9m5q4d0rwqmjse4gq4nhlme', quantity='4400000000'), Namespace(address='addr1qxlrd3zauax25a99qak3s9hx4w876hlwa65259s0s9ysnppa4pshmcnmjr24d5tva8wwcsxjrj7dng0hsc397s35np2ssvpxf6', quantity='4320000000'), Namespace(address='addr1qyargj5jrynm9y76gd4axsfupytvhjutcjlsgaesfm85stns924u765wlmcmueqsshu4jw6hgptcytm02tmx8he63l6q52wyag', quantity='4800000000')]\n"
     ]
    }
   ],
   "source": [
    "try:\n",
    "    data = api.asset_addresses(asset=ASSET)\n",
    "    print(data[0:5])\n",
    "except ApiError as e:\n",
    "    print(e)"
   ]
  },
  {
   "cell_type": "code",
   "execution_count": 19,
   "metadata": {},
   "outputs": [
    {
     "name": "stdout",
     "output_type": "stream",
     "text": [
      "[Namespace(asset='29d222ce763455e3d7a09a665ce554f00ac89d2e99a1a83d267170c64d494e', quantity='5000000000000000'), Namespace(asset='29d222ce763455e3d7a09a665ce554f00ac89d2e99a1a83d267170c64d494e74', quantity='45785504224419'), Namespace(asset='29d222ce763455e3d7a09a665ce554f00ac89d2e99a1a83d267170c6346434393465', quantity='0')]\n"
     ]
    }
   ],
   "source": [
    "try:\n",
    "    data = api.assets_policy(policy_id=POCILY_ID)\n",
    "    print(data[0:5])\n",
    "except ApiError as e:\n",
    "    print(e)"
   ]
  },
  {
   "cell_type": "code",
   "execution_count": 10,
   "metadata": {},
   "outputs": [
    {
     "data": {
      "text/plain": [
       "'0xb'"
      ]
     },
     "execution_count": 10,
     "metadata": {},
     "output_type": "execute_result"
    }
   ],
   "source": [
    "hex(11)"
   ]
  },
  {
   "cell_type": "code",
   "execution_count": null,
   "metadata": {},
   "outputs": [],
   "source": []
  }
 ],
 "metadata": {
  "kernelspec": {
   "display_name": "Python 3",
   "language": "python",
   "name": "python3"
  },
  "language_info": {
   "codemirror_mode": {
    "name": "ipython",
    "version": 3
   },
   "file_extension": ".py",
   "mimetype": "text/x-python",
   "name": "python",
   "nbconvert_exporter": "python",
   "pygments_lexer": "ipython3",
   "version": "3.10.9"
  },
  "orig_nbformat": 4,
  "vscode": {
   "interpreter": {
    "hash": "b0fa6594d8f4cbf19f97940f81e996739fb7646882a419484c72d19e05852a7e"
   }
  }
 },
 "nbformat": 4,
 "nbformat_minor": 2
}
