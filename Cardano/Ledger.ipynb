{
 "cells": [
  {
   "cell_type": "code",
   "execution_count": 2,
   "metadata": {},
   "outputs": [],
   "source": [
    "#!pip3 install blockfrost-python\n",
    "from blockfrost import BlockFrostApi, ApiError, ApiUrls\n",
    "\n",
    "api = BlockFrostApi(project_id='mainnetckpoKjQ5XH1O3NLIRXCOUDJoE7x5xmpZ')"
   ]
  },
  {
   "cell_type": "code",
   "execution_count": 4,
   "metadata": {},
   "outputs": [
    {
     "name": "stdout",
     "output_type": "stream",
     "text": [
      "Namespace(active_slots_coefficient=0.05, update_quorum=5, max_lovelace_supply='45000000000000000', network_magic=764824073, epoch_length=432000, system_start=1506203091, slots_per_kes_period=129600, slot_length=1, max_kes_evolutions=62, security_param=2160)\n"
     ]
    }
   ],
   "source": [
    "try:\n",
    "    data = api.genesis()\n",
    "    print(data)\n",
    "except ApiError as e:\n",
    "    print(e)"
   ]
  },
  {
   "cell_type": "code",
   "execution_count": null,
   "metadata": {},
   "outputs": [],
   "source": []
  }
 ],
 "metadata": {
  "kernelspec": {
   "display_name": "Python 3",
   "language": "python",
   "name": "python3"
  },
  "language_info": {
   "codemirror_mode": {
    "name": "ipython",
    "version": 3
   },
   "file_extension": ".py",
   "mimetype": "text/x-python",
   "name": "python",
   "nbconvert_exporter": "python",
   "pygments_lexer": "ipython3",
   "version": "3.10.9"
  },
  "orig_nbformat": 4,
  "vscode": {
   "interpreter": {
    "hash": "b0fa6594d8f4cbf19f97940f81e996739fb7646882a419484c72d19e05852a7e"
   }
  }
 },
 "nbformat": 4,
 "nbformat_minor": 2
}
