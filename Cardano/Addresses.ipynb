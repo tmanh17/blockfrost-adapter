{
 "cells": [
  {
   "cell_type": "code",
   "execution_count": 1,
   "metadata": {},
   "outputs": [],
   "source": [
    "#!pip3 install blockfrost-python\n",
    "from blockfrost import BlockFrostApi, ApiError, ApiUrls\n",
    "\n",
    "api = BlockFrostApi(project_id='mainnetckpoKjQ5XH1O3NLIRXCOUDJoE7x5xmpZ')\n",
    "ADDRESS = 'addr1qxhzr4545jau66q55pkypmtyrrp3fe5ucnz2kzp9d9ksnwrsxfk6rvced60w4h629n75rs2wsfpyg5yjuxjc3rvd0adqc8cpl0'"
   ]
  },
  {
   "cell_type": "code",
   "execution_count": 7,
   "metadata": {},
   "outputs": [
    {
     "name": "stdout",
     "output_type": "stream",
     "text": [
      "[Namespace(unit='lovelace', quantity='26388210'), Namespace(unit='04dbf8209ed08eee9a8f228d975f2599759f9ecc2135b0eed0286759447261676f3232', quantity='1'), Namespace(unit='04ee2649faded5397274773a9d1c3617cf105a69f89a0fec070045e7535431', quantity='5033'), Namespace(unit='05ded3e66d6413f90908e65d14ca3cc1456a5f650e79a8ad93414cb252554747', quantity='532082384'), Namespace(unit='29d222ce763455e3d7a09a665ce554f00ac89d2e99a1a83d267170c64d494e', quantity='3508971')]\n"
     ]
    }
   ],
   "source": [
    "try:\n",
    "    data = api.address(address=ADDRESS)\n",
    "    print(data.amount[0:5])\n",
    "except ApiError as e:\n",
    "    print(e)"
   ]
  },
  {
   "cell_type": "code",
   "execution_count": 10,
   "metadata": {},
   "outputs": [
    {
     "name": "stdout",
     "output_type": "stream",
     "text": [
      "[Namespace(unit='lovelace', quantity='26388210', decimals=6, has_nft_onchain_metadata=False), Namespace(unit='04dbf8209ed08eee9a8f228d975f2599759f9ecc2135b0eed0286759447261676f3232', quantity='1', decimals=None, has_nft_onchain_metadata=True), Namespace(unit='04ee2649faded5397274773a9d1c3617cf105a69f89a0fec070045e7535431', quantity='5033', decimals=None, has_nft_onchain_metadata=True), Namespace(unit='05ded3e66d6413f90908e65d14ca3cc1456a5f650e79a8ad93414cb252554747', quantity='532082384', decimals=None, has_nft_onchain_metadata=True), Namespace(unit='29d222ce763455e3d7a09a665ce554f00ac89d2e99a1a83d267170c64d494e', quantity='3508971', decimals=6, has_nft_onchain_metadata=False)]\n"
     ]
    }
   ],
   "source": [
    "try:\n",
    "    data = api.address_extended(address=ADDRESS)\n",
    "    print(data.amount[0:5])\n",
    "except ApiError as e:\n",
    "    print(e)"
   ]
  },
  {
   "cell_type": "code",
   "execution_count": 12,
   "metadata": {},
   "outputs": [
    {
     "name": "stdout",
     "output_type": "stream",
     "text": [
      "[Namespace(unit='lovelace', quantity='391036761566'), Namespace(unit='0029cb7c88c7567b63d1a512c0ed626aa169688ec980730c0473b9136c702018', quantity='1388868751'), Namespace(unit='048ee598172481f98d613fc9fb6a03fd6ec3edccb75f8e4afc993b6645584f', quantity='11495735'), Namespace(unit='04dbf8209ed08eee9a8f228d975f2599759f9ecc2135b0eed0286759447261676f3232', quantity='879'), Namespace(unit='04ee2649faded5397274773a9d1c3617cf105a69f89a0fec070045e7535431', quantity='3502211')] [Namespace(unit='lovelace', quantity='391010373356'), Namespace(unit='0029cb7c88c7567b63d1a512c0ed626aa169688ec980730c0473b9136c702018', quantity='1388868751'), Namespace(unit='048ee598172481f98d613fc9fb6a03fd6ec3edccb75f8e4afc993b6645584f', quantity='11495735'), Namespace(unit='04dbf8209ed08eee9a8f228d975f2599759f9ecc2135b0eed0286759447261676f3232', quantity='878'), Namespace(unit='04ee2649faded5397274773a9d1c3617cf105a69f89a0fec070045e7535431', quantity='3497178')]\n"
     ]
    }
   ],
   "source": [
    "try:\n",
    "    data = api.address_total(address=ADDRESS)\n",
    "    print(data.received_sum[0:5], data.sent_sum[0:5])\n",
    "except ApiError as e:\n",
    "    print(e)"
   ]
  },
  {
   "cell_type": "code",
   "execution_count": 20,
   "metadata": {},
   "outputs": [
    {
     "name": "stdout",
     "output_type": "stream",
     "text": [
      "[Namespace(address='addr1qxhzr4545jau66q55pkypmtyrrp3fe5ucnz2kzp9d9ksnwrsxfk6rvced60w4h629n75rs2wsfpyg5yjuxjc3rvd0adqc8cpl0', tx_hash='e7dd6900bbdf5bac6d13d00ea544a8e8ccf2103ff757540630285436fc03eafc', tx_index=0, output_index=0, amount=[Namespace(unit='lovelace', quantity='5000000')], block='e34f4db187f511a0bdec28f163ef8dc5c529ce9fb8badeb5c21c98c8d3dc4cbc', data_hash=None, inline_datum=None, reference_script_hash=None)]\n"
     ]
    }
   ],
   "source": [
    "try:\n",
    "    data = api.address_utxos(address=ADDRESS)\n",
    "    print(data[0:1])\n",
    "except ApiError as e:\n",
    "    print(e)"
   ]
  },
  {
   "cell_type": "code",
   "execution_count": 28,
   "metadata": {},
   "outputs": [
    {
     "name": "stdout",
     "output_type": "stream",
     "text": [
      "{'status_code': 400, 'error': 'Bad Request', 'message': 'Invalid or malformed asset format.'}\n"
     ]
    }
   ],
   "source": [
    "try:\n",
    "    data = api.address_utxos_asset(address=ADDRESS, asset='29d222ce763455e3d7a09a665ce554f00ac89d2e99a1a83d267170c6d9v7aptfvpx7we2la8f25kwprkj2ma5rp6uwzv')\n",
    "    print(data[0:5])\n",
    "except ApiError as e:\n",
    "    print(e)"
   ]
  },
  {
   "cell_type": "code",
   "execution_count": 23,
   "metadata": {},
   "outputs": [
    {
     "name": "stdout",
     "output_type": "stream",
     "text": [
      "[Namespace(tx_hash='a5a443b7f160be55fbf57b1af1b137633ade3435a369889c82a526dab0f2a4dd', tx_index=41, block_height=6739133, block_time=1641817720), Namespace(tx_hash='7ba4e35f2b05e71aff291d1101a3ba0bb823bcb812152df6f2551cd407b3a186', tx_index=10, block_height=6739165, block_time=1641818381), Namespace(tx_hash='9f2e161edd1e2e0f3d0041233aca1786f1b03497d7de97ed1bf87ddb2e6d891b', tx_index=11, block_height=6739286, block_time=1641820797), Namespace(tx_hash='c54b5b67a98eb88211da12181029e1ac54f78bfa708fcbb4bb2a20716a36e06f', tx_index=40, block_height=6739295, block_time=1641821012), Namespace(tx_hash='d5a74e608e05b7e7df93ff51f98472c11d7b2a2425bd09206d1a342c1ad37698', tx_index=0, block_height=6739297, block_time=1641821068)]\n"
     ]
    }
   ],
   "source": [
    "try:\n",
    "    data = api.address_transactions(address=ADDRESS)\n",
    "    print(data[0:5])\n",
    "except ApiError as e:\n",
    "    print(e)"
   ]
  }
 ],
 "metadata": {
  "kernelspec": {
   "display_name": "Python 3",
   "language": "python",
   "name": "python3"
  },
  "language_info": {
   "codemirror_mode": {
    "name": "ipython",
    "version": 3
   },
   "file_extension": ".py",
   "mimetype": "text/x-python",
   "name": "python",
   "nbconvert_exporter": "python",
   "pygments_lexer": "ipython3",
   "version": "3.10.9"
  },
  "orig_nbformat": 4,
  "vscode": {
   "interpreter": {
    "hash": "b0fa6594d8f4cbf19f97940f81e996739fb7646882a419484c72d19e05852a7e"
   }
  }
 },
 "nbformat": 4,
 "nbformat_minor": 2
}
