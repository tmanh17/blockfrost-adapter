{
 "cells": [
  {
   "cell_type": "code",
   "execution_count": 2,
   "metadata": {},
   "outputs": [],
   "source": [
    "#!pip3 install blockfrost-python\n",
    "from blockfrost import BlockFrostApi, ApiError, ApiUrls\n",
    "\n",
    "api = BlockFrostApi(project_id='mainnetckpoKjQ5XH1O3NLIRXCOUDJoE7x5xmpZ')\n",
    "STAKE_ADDRESS = 'stake1u9crymdpkvvka8h2ma9zel2pc98gysjy2zfwrfvg3kxh7kske27e3'"
   ]
  },
  {
   "cell_type": "code",
   "execution_count": 3,
   "metadata": {},
   "outputs": [
    {
     "name": "stdout",
     "output_type": "stream",
     "text": [
      "Namespace(stake_address='stake1u9crymdpkvvka8h2ma9zel2pc98gysjy2zfwrfvg3kxh7kske27e3', active=True, active_epoch=314, controlled_amount='38250034', rewards_sum='11861824', withdrawals_sum='0', reserves_sum='0', treasury_sum='0', withdrawable_amount='11861824', pool_id='pool19f6guwy97mmnxg9dz65rxyj8hq07qxud886hamyu4fgfz7dj9gl')\n"
     ]
    }
   ],
   "source": [
    "try:\n",
    "    data = api.accounts(stake_address=STAKE_ADDRESS)\n",
    "    print (data)\n",
    "except ApiError as e:\n",
    "    print(e)"
   ]
  },
  {
   "cell_type": "code",
   "execution_count": 8,
   "metadata": {},
   "outputs": [
    {
     "name": "stdout",
     "output_type": "stream",
     "text": [
      "[Namespace(epoch=317, amount='1405491', pool_id='pool1gr5pa4shzsyefw445qrpn5pxnuxa8tuev0jquz04acdx6efjpvg', type='member'), Namespace(epoch=318, amount='695195', pool_id='pool1gr5pa4shzsyefw445qrpn5pxnuxa8tuev0jquz04acdx6efjpvg', type='member'), Namespace(epoch=319, amount='646131', pool_id='pool1gr5pa4shzsyefw445qrpn5pxnuxa8tuev0jquz04acdx6efjpvg', type='member'), Namespace(epoch=320, amount='160666', pool_id='pool1gr5pa4shzsyefw445qrpn5pxnuxa8tuev0jquz04acdx6efjpvg', type='member'), Namespace(epoch=321, amount='86609', pool_id='pool1gr5pa4shzsyefw445qrpn5pxnuxa8tuev0jquz04acdx6efjpvg', type='member')]\n"
     ]
    }
   ],
   "source": [
    "try:\n",
    "    data = api.account_rewards(stake_address='STAKE_ADDRESS')\n",
    "    print (data[0:5])\n",
    "except ApiError as e:\n",
    "    print(e)"
   ]
  },
  {
   "cell_type": "code",
   "execution_count": 11,
   "metadata": {},
   "outputs": [
    {
     "name": "stdout",
     "output_type": "stream",
     "text": [
      "[Namespace(active_epoch=316, amount='49464475', pool_id='pool1grhujlggx90ln0jcnrey4adckysxdx6rqfmx9s6fnhtc2g0qym0'), Namespace(active_epoch=317, amount='2124662938', pool_id='pool1gr5pa4shzsyefw445qrpn5pxnuxa8tuev0jquz04acdx6efjpvg'), Namespace(active_epoch=318, amount='1339960455', pool_id='pool1gr5pa4shzsyefw445qrpn5pxnuxa8tuev0jquz04acdx6efjpvg'), Namespace(active_epoch=319, amount='1218053296', pool_id='pool1gr5pa4shzsyefw445qrpn5pxnuxa8tuev0jquz04acdx6efjpvg'), Namespace(active_epoch=320, amount='428767133', pool_id='pool1gr5pa4shzsyefw445qrpn5pxnuxa8tuev0jquz04acdx6efjpvg')]\n"
     ]
    }
   ],
   "source": [
    "try:\n",
    "    data = api.account_history(stake_address='STAKE_ADDRESS')\n",
    "    print (data[0:5])\n",
    "except ApiError as e:\n",
    "    print(e)"
   ]
  },
  {
   "cell_type": "code",
   "execution_count": 13,
   "metadata": {},
   "outputs": [
    {
     "name": "stdout",
     "output_type": "stream",
     "text": [
      "[Namespace(active_epoch=316, tx_hash='234fa754223033083f3d9b8c2ffc1140db5c41baefdae1fd517d9ed55fe9ccc5', amount='4537619', pool_id='pool19f6guwy97mmnxg9dz65rxyj8hq07qxud886hamyu4fgfz7dj9gl'), Namespace(active_epoch=316, tx_hash='247119482711a678fe07f32603016d416781604e56415235a8eb63c7487bf95b', amount='77809151', pool_id='pool1grhujlggx90ln0jcnrey4adckysxdx6rqfmx9s6fnhtc2g0qym0'), Namespace(active_epoch=317, tx_hash='aa81044647541c5a2253cd9ef36f703f48ea666e74dc5b0580117162a07f808a', amount='8327195', pool_id='pool1gr5pa4shzsyefw445qrpn5pxnuxa8tuev0jquz04acdx6efjpvg'), Namespace(active_epoch=320, tx_hash='e27b831c881977af2d65df242a832d21f67f3d663ebe6b13a79bbb208da295ea', amount='3822223', pool_id='pool15hx9hze8ulcsw6e7ceelz2pem2g3u9c29wqe4eszkhspj3wcdlx'), Namespace(active_epoch=320, tx_hash='6f9f67fc97d36a67705a8236033a777f6f3189347b107868688da6b39e358264', amount='63898763', pool_id='pool1gr5pa4shzsyefw445qrpn5pxnuxa8tuev0jquz04acdx6efjpvg')]\n"
     ]
    }
   ],
   "source": [
    "try:\n",
    "    data = api.account_delegations(stake_address='STAKE_ADDRESS')\n",
    "    print (data[0:5])\n",
    "except ApiError as e:\n",
    "    print(e)"
   ]
  },
  {
   "cell_type": "code",
   "execution_count": 14,
   "metadata": {},
   "outputs": [
    {
     "name": "stdout",
     "output_type": "stream",
     "text": [
      "[Namespace(tx_hash='234fa754223033083f3d9b8c2ffc1140db5c41baefdae1fd517d9ed55fe9ccc5', action='registered')]\n"
     ]
    }
   ],
   "source": [
    "try:\n",
    "    data = api.account_registrations(stake_address='STAKE_ADDRESS')\n",
    "    print (data[0:5])\n",
    "except ApiError as e:\n",
    "    print(e)"
   ]
  },
  {
   "cell_type": "code",
   "execution_count": 15,
   "metadata": {},
   "outputs": [
    {
     "name": "stdout",
     "output_type": "stream",
     "text": [
      "[]\n"
     ]
    }
   ],
   "source": [
    "try:\n",
    "    data = api.account_withdrawals(stake_address='STAKE_ADDRESS')\n",
    "    print (data[0:5])\n",
    "except ApiError as e:\n",
    "    print(e)"
   ]
  },
  {
   "cell_type": "code",
   "execution_count": 16,
   "metadata": {},
   "outputs": [
    {
     "name": "stdout",
     "output_type": "stream",
     "text": [
      "[]\n"
     ]
    }
   ],
   "source": [
    "try:\n",
    "    data = api.account_mirs(stake_address='STAKE_ADDRESS')\n",
    "    print (data[0:5])\n",
    "except ApiError as e:\n",
    "    print(e)"
   ]
  },
  {
   "cell_type": "code",
   "execution_count": 17,
   "metadata": {},
   "outputs": [
    {
     "name": "stdout",
     "output_type": "stream",
     "text": [
      "[Namespace(address='addr1qxhzr4545jau66q55pkypmtyrrp3fe5ucnz2kzp9d9ksnwrsxfk6rvced60w4h629n75rs2wsfpyg5yjuxjc3rvd0adqc8cpl0'), Namespace(address='addr1qxhtckwvequkgctmrcj5f20a2dkqqg9u94lh5t6h3xelk9msxfk6rvced60w4h629n75rs2wsfpyg5yjuxjc3rvd0adq5ftw6z')]\n"
     ]
    }
   ],
   "source": [
    "try:\n",
    "    data = api.account_addresses(stake_address='STAKE_ADDRESS')\n",
    "    print (data[0:5])\n",
    "except ApiError as e:\n",
    "    print(e)"
   ]
  },
  {
   "cell_type": "code",
   "execution_count": null,
   "metadata": {},
   "outputs": [
    {
     "name": "stdout",
     "output_type": "stream",
     "text": [
      "[Namespace(address='addr1qxhzr4545jau66q55pkypmtyrrp3fe5ucnz2kzp9d9ksnwrsxfk6rvced60w4h629n75rs2wsfpyg5yjuxjc3rvd0adqc8cpl0'), Namespace(address='addr1qxhtckwvequkgctmrcj5f20a2dkqqg9u94lh5t6h3xelk9msxfk6rvced60w4h629n75rs2wsfpyg5yjuxjc3rvd0adq5ftw6z')]\n"
     ]
    }
   ],
   "source": [
    "try:\n",
    "    data = api.account_addresses_assets(stake_address='STAKE_ADDRESS')\n",
    "    print (data[0:5])\n",
    "except ApiError as e:\n",
    "    print(e)"
   ]
  },
  {
   "cell_type": "code",
   "execution_count": 21,
   "metadata": {},
   "outputs": [
    {
     "name": "stdout",
     "output_type": "stream",
     "text": [
      "[Namespace(unit='lovelace', quantity='391155123406'), Namespace(unit='0029cb7c88c7567b63d1a512c0ed626aa169688ec980730c0473b9136c702018', quantity='1388868751'), Namespace(unit='048ee598172481f98d613fc9fb6a03fd6ec3edccb75f8e4afc993b6645584f', quantity='11495735'), Namespace(unit='04dbf8209ed08eee9a8f228d975f2599759f9ecc2135b0eed0286759447261676f3232', quantity='880'), Namespace(unit='04ee2649faded5397274773a9d1c3617cf105a69f89a0fec070045e7535431', quantity='3507211')]\n"
     ]
    }
   ],
   "source": [
    "try:\n",
    "    data = api.account_addresses_total(stake_address='STAKE_ADDRESS')\n",
    "    print (data.received_sum[0:5])\n",
    "except ApiError as e:\n",
    "    print(e)"
   ]
  },
  {
   "cell_type": "code",
   "execution_count": null,
   "metadata": {},
   "outputs": [],
   "source": []
  }
 ],
 "metadata": {
  "kernelspec": {
   "display_name": "Python 3",
   "language": "python",
   "name": "python3"
  },
  "language_info": {
   "codemirror_mode": {
    "name": "ipython",
    "version": 3
   },
   "file_extension": ".py",
   "mimetype": "text/x-python",
   "name": "python",
   "nbconvert_exporter": "python",
   "pygments_lexer": "ipython3",
   "version": "3.10.9"
  },
  "orig_nbformat": 4,
  "vscode": {
   "interpreter": {
    "hash": "b0fa6594d8f4cbf19f97940f81e996739fb7646882a419484c72d19e05852a7e"
   }
  }
 },
 "nbformat": 4,
 "nbformat_minor": 2
}
